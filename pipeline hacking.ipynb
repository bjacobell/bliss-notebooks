{
 "cells": [
  {
   "cell_type": "code",
   "execution_count": 1,
   "metadata": {},
   "outputs": [],
   "source": [
    "\n",
    "import pybliss\n",
    "import numpy as np\n",
    "%matplotlib widget\n",
    "import matplotlib.pyplot as plt\n"
   ]
  },
  {
   "cell_type": "code",
   "execution_count": 2,
   "metadata": {},
   "outputs": [],
   "source": [
    "data_loc = \"/datasets/nathan/datasets/voyager_2020_data/\"\n",
    "\n",
    "# The structure here is so each observation target gets a list of files belonging to it\n",
    "# [[list of on files], [off], [off], [off]]\n",
    "#\n",
    "cadence = pybliss.cadence([[f\"{data_loc}/single_coarse_guppi_59046_80036_DIAG_VOYAGER-1_0011.rawspec.0000.h5\",\n",
    "                    f\"{data_loc}/single_coarse_guppi_59046_80672_DIAG_VOYAGER-1_0013.rawspec.0000.h5\",\n",
    "                    f\"{data_loc}/single_coarse_guppi_59046_81310_DIAG_VOYAGER-1_0015.rawspec.0000.h5\"\n",
    "                    ],\n",
    "                    [f\"{data_loc}/single_coarse_guppi_59046_80354_DIAG_VOYAGER-1_0012.rawspec.0000.h5\"],\n",
    "                    [f\"{data_loc}/single_coarse_guppi_59046_80989_DIAG_VOYAGER-1_0014.rawspec.0000.h5\"],\n",
    "                    [f\"{data_loc}/single_coarse_guppi_59046_81628_DIAG_VOYAGER-1_0016.rawspec.0000.h5\"]])"
   ]
  },
  {
   "cell_type": "code",
   "execution_count": 3,
   "metadata": {},
   "outputs": [
    {
     "name": "stdout",
     "output_type": "stream",
     "text": [
      "spec kurtosis with M=16 and N=51\n",
      "spec kurtosis with M=16 and N=51\n",
      "spec kurtosis with M=16 and N=51\n",
      "spec kurtosis with M=16 and N=51\n",
      "spec kurtosis with M=16 and N=51\n",
      "spec kurtosis with M=16 and N=51\n"
     ]
    }
   ],
   "source": [
    "\n",
    "cadence = pybliss.flaggers.flag_filter_rolloff(cadence, .2)\n",
    "\n",
    "cadence = pybliss.flaggers.flag_spectral_kurtosis(cadence, .02, 20)\n"
   ]
  },
  {
   "cell_type": "code",
   "execution_count": 4,
   "metadata": {},
   "outputs": [],
   "source": [
    "\n",
    "noise_est_options = pybliss.estimators.noise_power_estimate_options()\n",
    "noise_est_options.masked_estimate = True\n",
    "noise_est_options.estimator_method = pybliss.estimators.noise_power_estimator.stddev\n",
    "cadence = pybliss.estimators.estimate_noise_power(cadence, noise_est_options)\n"
   ]
  },
  {
   "cell_type": "code",
   "execution_count": 5,
   "metadata": {},
   "outputs": [
    {
     "name": "stdout",
     "output_type": "stream",
     "text": [
      "We're doing cpu version\n",
      "We're doing cpu version\n",
      "We're doing cpu version\n",
      "We're doing cpu version\n",
      "We're doing cpu version\n",
      "We're doing cpu version\n"
     ]
    }
   ],
   "source": [
    "opts = pybliss.integrate_drifts_options()\n",
    "opts.desmear = True\n",
    "opts.low_rate = -48\n",
    "opts.high_rate = 48\n",
    "opts.rate_step_size = 1\n",
    "\n",
    "cadence = pybliss.drift_search.integrate_drifts(cadence, opts)"
   ]
  },
  {
   "cell_type": "code",
   "execution_count": 6,
   "metadata": {},
   "outputs": [
    {
     "name": "stdout",
     "output_type": "stream",
     "text": [
      "connected_components looking through 100663296 candidates with threshold 6.63634e+06\n",
      "connected_components looking through 100663296 candidates with threshold 1.34548e+07\n",
      "connected_components looking through 100663296 candidates with threshold 7.35269e+06\n",
      "connected_components looking through 100663296 candidates with threshold 2.51924e+07\n",
      "connected_components looking through 100663296 candidates with threshold 1.09973e+07\n",
      "connected_components looking through 100663296 candidates with threshold 6.53053e+06\n"
     ]
    }
   ],
   "source": [
    "hit_search_opts = pybliss.drift_search.hit_search_options()\n",
    "\n",
    "cadence = pybliss.drift_search.hit_search(cadence, hit_search_opts)\n"
   ]
  },
  {
   "cell_type": "code",
   "execution_count": 7,
   "metadata": {},
   "outputs": [
    {
     "name": "stdout",
     "output_type": "stream",
     "text": [
      "Event was found in an off scan\n",
      "Event was found in an off scan\n",
      "Event was found in an off scan\n",
      "Average SNR of this candidate event is 12936.8 and drift is -0.363527\n",
      "Average SNR of this candidate event is 88.6372 and drift is -0.349177\n",
      "Average SNR of this candidate event is 94.5153 and drift is -0.334827\n",
      "Average SNR of this candidate event is 93.5092 and drift is -0.36831\n",
      "Average SNR of this candidate event is 79.7925 and drift is -0.36831\n"
     ]
    }
   ],
   "source": [
    "events = pybliss.drift_search.event_search(cadence)"
   ]
  },
  {
   "cell_type": "code",
   "execution_count": 8,
   "metadata": {},
   "outputs": [
    {
     "ename": "NameError",
     "evalue": "name 'e' is not defined",
     "output_type": "error",
     "traceback": [
      "\u001b[0;31m---------------------------------------------------------------------------\u001b[0m",
      "\u001b[0;31mNameError\u001b[0m                                 Traceback (most recent call last)",
      "Cell \u001b[0;32mIn[8], line 1\u001b[0m\n\u001b[0;32m----> 1\u001b[0m \u001b[38;5;28mdir\u001b[39m(\u001b[43me\u001b[49m)\n",
      "\u001b[0;31mNameError\u001b[0m: name 'e' is not defined"
     ]
    }
   ],
   "source": [
    "dir(e)"
   ]
  },
  {
   "cell_type": "code",
   "execution_count": null,
   "metadata": {},
   "outputs": [],
   "source": [
    "for e in events:\n",
    "    print(f\"{e.starting_frequency_Hz} : {e.average_drift_rate_Hz_per_sec} : {e.average_snr}\")\n",
    "    print(e.hits)"
   ]
  },
  {
   "cell_type": "code",
   "execution_count": null,
   "metadata": {},
   "outputs": [],
   "source": []
  }
 ],
 "metadata": {
  "kernelspec": {
   "display_name": "Python 3",
   "language": "python",
   "name": "python3"
  },
  "language_info": {
   "codemirror_mode": {
    "name": "ipython",
    "version": 3
   },
   "file_extension": ".py",
   "mimetype": "text/x-python",
   "name": "python",
   "nbconvert_exporter": "python",
   "pygments_lexer": "ipython3",
   "version": "3.10.12"
  }
 },
 "nbformat": 4,
 "nbformat_minor": 2
}
