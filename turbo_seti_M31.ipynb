{
 "cells": [
  {
   "cell_type": "code",
   "execution_count": 1,
   "metadata": {},
   "outputs": [],
   "source": [
    "import bldw\n",
    "import glob\n",
    "import numpy as np\n",
    "import blimpy as bl\n",
    "import matplotlib.pyplot as plt\n",
    "import setigen\n",
    "import os\n",
    "import turbo_seti\n",
    "%matplotlib inline\n",
    "\n",
    "# for in-line (non-terminal) turboSETI\n",
    "# as in Elan Lavie's notebook\n",
    "import turbo_seti.find_doppler.seti_event as turbo\n",
    "import turbo_seti.find_event as find\n",
    "from turbo_seti.find_doppler.find_doppler import FindDoppler\n",
    "from turbo_seti.find_event.find_event_pipeline import find_event_pipeline\n",
    "from turbo_seti.find_event.plot_event_pipeline import plot_event_pipeline"
   ]
  },
  {
   "cell_type": "code",
   "execution_count": 36,
   "metadata": {},
   "outputs": [],
   "source": [
    "DATADIR = '/datag/pipeline/AGBT19B_999_121/blc75_blp05/'\n",
    "lfiles = ['blc75_guppi_58832_16209_MESSIER031_0057.gpuspec.0002.h5',\n",
    "'blc75_guppi_58832_16530_HIP2792_0058.gpuspec.0002.h5',\n",
    "'blc75_guppi_58832_16851_MESSIER031_0059.gpuspec.0002.h5',\n",
    "'blc75_guppi_58832_17168_HIP3077_0060.gpuspec.0002.h5',\n",
    "'blc75_guppi_58832_17485_MESSIER031_0061.gpuspec.0002.h5',\n",
    "'blc75_guppi_58832_17801_HIP3223_0062.gpuspec.0002.h5']"
   ]
  },
  {
   "cell_type": "code",
   "execution_count": 37,
   "metadata": {},
   "outputs": [],
   "source": [
    "# Uncomment for copying files into scratch directory — hopefully shouldn't be necessary for en-masse runs?\n",
    "\n",
    "for file in lfiles:\n",
    "    console = f'cp {DATADIR}{file} /datax/scratch/benjb/'\n",
    "    os.system(console)"
   ]
  },
  {
   "cell_type": "code",
   "execution_count": 38,
   "metadata": {},
   "outputs": [
    {
     "name": "stdout",
     "output_type": "stream",
     "text": [
      "blimpy.waterfall INFO     Conversion time: 0.15sec\n",
      "blimpy.waterfall INFO     Conversion time: 0.15sec\n",
      "blimpy.waterfall INFO     Conversion time: 0.15sec\n",
      "blimpy.waterfall INFO     Conversion time: 0.11sec\n",
      "blimpy.waterfall INFO     Conversion time: 0.11sec\n",
      "blimpy.waterfall INFO     Conversion time: 0.11sec\n"
     ]
    }
   ],
   "source": [
    "# remove DC spikes in absence of turboSETI blank_DC option\n",
    "# not needed for time-resolution spectra\n",
    "\n",
    "data_loc = '/datax/scratch/benjb/'\n",
    "\n",
    "for i in range(len(lfiles)):\n",
    "    fb = bl.Waterfall(DATADIR + lfiles[i])\n",
    "    fb.blank_dc(64)\n",
    "    fb.write_to_hdf5(f'{data_loc}bDC_{lfiles[i]}')"
   ]
  },
  {
   "cell_type": "code",
   "execution_count": 39,
   "metadata": {},
   "outputs": [
    {
     "name": "stdout",
     "output_type": "stream",
     "text": [
      "Beginning turboSETI search (FindDoppler version) ...\n",
      "\n",
      "turbo_seti version 2.0.18\n",
      "blimpy version 2.0.11\n",
      "h5py version 2.10.0\n",
      "\n",
      "find_doppler.63 INFO     {'DIMENSION_LABELS': array([b'time', b'feed_id', b'frequency'], dtype=object), 'az_start': 0.0, 'data_type': 1, 'fch1': 1313.9634132385254, 'foff': -0.00286102294921875, 'ibeam': 1, 'machine_id': 20, 'nbeams': 1, 'nbits': 32, 'nchans': 65536, 'nifs': 1, 'rawdatafile': 'guppi_58832_16209_MESSIER031_0057.0000.raw', 'source_name': 'MESSIER031', 'src_dej': <Angle 41.2677 deg>, 'src_raj': <Angle 0.71234667 hourangle>, 'telescope_id': 6, 'tsamp': 1.0737418239999998, 'tstart': 58832.18760416667, 'za_start': 0.0}\n",
      "find_doppler.63 INFO     File: /datax/scratch/benjb/bDC_blc75_guppi_58832_16209_MESSIER031_0057.gpuspec.0002.h5\n",
      " drift rates (min, max): (0.000000, 4.000000)\n",
      " SNR: 2.000000\n",
      "\n",
      "Starting ET search using /datax/scratch/benjb/bDC_blc75_guppi_58832_16209_MESSIER031_0057.gpuspec.0002.h5\n",
      "find_doppler.63 INFO     Parameters: datafile=/datax/scratch/benjb/bDC_blc75_guppi_58832_16209_MESSIER031_0057.gpuspec.0002.h5, max_drift=4, min_drift=0.0, snr=2, out_dir=/datax/scratch/benjb/, coarse_chans=None, flagging=False, n_coarse_chan=64, kernels=None, gpu_backend=True, precision=2, append_output=False, log_level_int=20, obs_info={'pulsar': 0, 'pulsar_found': 0, 'pulsar_dm': 0.0, 'pulsar_snr': 0.0, 'pulsar_stats': array([0., 0., 0., 0., 0., 0.]), 'RFI_level': 0.0, 'Mean_SEFD': 0.0, 'psrflux_Sens': 0.0, 'SEFDs_val': [0.0], 'SEFDs_freq': [0.0], 'SEFDs_freq_up': [0.0]}\n",
      "find_doppler.2  INFO     Top hit found! SNR 2.904752, Drift Rate -0.000000, index 166\n",
      "find_doppler.28 INFO     Top hit found! SNR 2.047232, Drift Rate -0.000000, index 676\n",
      "find_doppler.34 INFO     Top hit found! SNR 3.856252, Drift Rate -0.000000, index 835\n",
      "find_doppler.35 INFO     Top hit found! SNR 4.550357, Drift Rate -0.000000, index 588\n",
      "find_doppler.36 INFO     Top hit found! SNR 3.813001, Drift Rate -0.000000, index 734\n",
      "find_doppler.37 INFO     Top hit found! SNR 3.009123, Drift Rate -0.000000, index 903\n",
      "find_doppler.38 INFO     Top hit found! SNR 2.111096, Drift Rate -0.000000, index 191\n",
      "find_doppler.42 INFO     Top hit found! SNR 7.983300, Drift Rate -0.000000, index 321\n",
      "find_doppler.45 INFO     Top hit found! SNR 3.209847, Drift Rate -0.000000, index 814\n",
      "find_doppler.46 INFO     Top hit found! SNR 2.491117, Drift Rate -0.000000, index 847\n",
      "find_doppler.47 INFO     Top hit found! SNR 4.061201, Drift Rate -0.000000, index 377\n",
      "find_doppler.48 INFO     Top hit found! SNR 3.471231, Drift Rate -0.000000, index 177\n",
      "find_doppler.63 INFO     Top hit found! SNR 3.258789, Drift Rate -0.000000, index 138\n",
      "\n",
      "turbo_seti version 2.0.18\n",
      "blimpy version 2.0.11\n",
      "h5py version 2.10.0\n",
      "\n",
      "find_doppler.63 INFO     {'DIMENSION_LABELS': array([b'time', b'feed_id', b'frequency'], dtype=object), 'az_start': 0.0, 'data_type': 1, 'fch1': 1313.9634132385254, 'foff': -0.00286102294921875, 'ibeam': 1, 'machine_id': 20, 'nbeams': 1, 'nbits': 32, 'nchans': 65536, 'nifs': 1, 'rawdatafile': 'guppi_58832_16530_HIP2792_0058.0000.raw', 'source_name': 'HIP2792', 'src_dej': <Angle 40.4625 deg>, 'src_raj': <Angle 0.59290667 hourangle>, 'telescope_id': 6, 'tsamp': 1.0737418239999998, 'tstart': 58832.19131944444, 'za_start': 0.0}\n",
      "find_doppler.63 INFO     File: /datax/scratch/benjb/bDC_blc75_guppi_58832_16530_HIP2792_0058.gpuspec.0002.h5\n",
      " drift rates (min, max): (0.000000, 4.000000)\n",
      " SNR: 2.000000\n",
      "\n",
      "Starting ET search using /datax/scratch/benjb/bDC_blc75_guppi_58832_16530_HIP2792_0058.gpuspec.0002.h5\n",
      "find_doppler.63 INFO     Parameters: datafile=/datax/scratch/benjb/bDC_blc75_guppi_58832_16530_HIP2792_0058.gpuspec.0002.h5, max_drift=4, min_drift=0.0, snr=2, out_dir=/datax/scratch/benjb/, coarse_chans=None, flagging=False, n_coarse_chan=64, kernels=None, gpu_backend=True, precision=2, append_output=False, log_level_int=20, obs_info={'pulsar': 0, 'pulsar_found': 0, 'pulsar_dm': 0.0, 'pulsar_snr': 0.0, 'pulsar_stats': array([0., 0., 0., 0., 0., 0.]), 'RFI_level': 0.0, 'Mean_SEFD': 0.0, 'psrflux_Sens': 0.0, 'SEFDs_val': [0.0], 'SEFDs_freq': [0.0], 'SEFDs_freq_up': [0.0]}\n",
      "find_doppler.2  INFO     Top hit found! SNR 3.085270, Drift Rate -0.000000, index 177\n",
      "find_doppler.4  INFO     Top hit found! SNR 2.212948, Drift Rate -0.000000, index 785\n",
      "find_doppler.28 INFO     Top hit found! SNR 2.382124, Drift Rate -0.000000, index 676\n",
      "find_doppler.34 INFO     Top hit found! SNR 2.717324, Drift Rate -0.000000, index 835\n",
      "find_doppler.35 INFO     Top hit found! SNR 3.161508, Drift Rate -0.000000, index 821\n",
      "find_doppler.36 INFO     Top hit found! SNR 4.618569, Drift Rate -0.000000, index 734\n",
      "find_doppler.37 INFO     Top hit found! SNR 3.134764, Drift Rate -0.000000, index 428\n",
      "find_doppler.42 INFO     Top hit found! SNR 7.326783, Drift Rate -0.000000, index 321\n",
      "find_doppler.45 INFO     Top hit found! SNR 2.611194, Drift Rate -0.000000, index 720\n",
      "find_doppler.46 INFO     Top hit found! SNR 2.582900, Drift Rate -0.000000, index 529\n",
      "find_doppler.47 INFO     Top hit found! SNR 2.894841, Drift Rate -0.000000, index 368\n",
      "find_doppler.48 INFO     Top hit found! SNR 3.198558, Drift Rate -0.000000, index 177\n",
      "find_doppler.58 INFO     Top hit found! SNR 2.891560, Drift Rate -0.000000, index 365\n",
      "find_doppler.59 INFO     Top hit found! SNR 2.155873, Drift Rate -0.000000, index 740\n",
      "find_doppler.61 INFO     Top hit found! SNR 2.634267, Drift Rate -0.000000, index 788\n",
      "\n",
      "turbo_seti version 2.0.18\n",
      "blimpy version 2.0.11\n",
      "h5py version 2.10.0\n",
      "\n",
      "find_doppler.63 INFO     {'DIMENSION_LABELS': array([b'time', b'feed_id', b'frequency'], dtype=object), 'az_start': 0.0, 'data_type': 1, 'fch1': 1313.9634132385254, 'foff': -0.00286102294921875, 'ibeam': 1, 'machine_id': 20, 'nbeams': 1, 'nbits': 32, 'nchans': 65536, 'nifs': 1, 'rawdatafile': 'guppi_58832_16851_MESSIER031_0059.0000.raw', 'source_name': 'MESSIER031', 'src_dej': <Angle 41.2592 deg>, 'src_raj': <Angle 0.71220667 hourangle>, 'telescope_id': 6, 'tsamp': 1.0737418239999998, 'tstart': 58832.19503472222, 'za_start': 0.0}\n",
      "find_doppler.63 INFO     File: /datax/scratch/benjb/bDC_blc75_guppi_58832_16851_MESSIER031_0059.gpuspec.0002.h5\n",
      " drift rates (min, max): (0.000000, 4.000000)\n",
      " SNR: 2.000000\n",
      "\n",
      "Starting ET search using /datax/scratch/benjb/bDC_blc75_guppi_58832_16851_MESSIER031_0059.gpuspec.0002.h5\n",
      "find_doppler.63 INFO     Parameters: datafile=/datax/scratch/benjb/bDC_blc75_guppi_58832_16851_MESSIER031_0059.gpuspec.0002.h5, max_drift=4, min_drift=0.0, snr=2, out_dir=/datax/scratch/benjb/, coarse_chans=None, flagging=False, n_coarse_chan=64, kernels=None, gpu_backend=True, precision=2, append_output=False, log_level_int=20, obs_info={'pulsar': 0, 'pulsar_found': 0, 'pulsar_dm': 0.0, 'pulsar_snr': 0.0, 'pulsar_stats': array([0., 0., 0., 0., 0., 0.]), 'RFI_level': 0.0, 'Mean_SEFD': 0.0, 'psrflux_Sens': 0.0, 'SEFDs_val': [0.0], 'SEFDs_freq': [0.0], 'SEFDs_freq_up': [0.0]}\n",
      "find_doppler.2  INFO     Top hit found! SNR 3.092673, Drift Rate -0.000000, index 165\n",
      "find_doppler.4  INFO     Top hit found! SNR 2.250306, Drift Rate -0.000000, index 785\n",
      "find_doppler.28 INFO     Top hit found! SNR 2.363479, Drift Rate -0.000000, index 676\n",
      "find_doppler.34 INFO     Top hit found! SNR 2.990472, Drift Rate -0.000000, index 866\n",
      "find_doppler.35 INFO     Top hit found! SNR 3.458449, Drift Rate -0.000000, index 906\n",
      "find_doppler.36 INFO     Top hit found! SNR 4.835390, Drift Rate -0.000000, index 734\n",
      "find_doppler.37 INFO     Top hit found! SNR 3.893981, Drift Rate -0.000000, index 428\n",
      "find_doppler.38 INFO     Top hit found! SNR 2.215517, Drift Rate -0.000000, index 327\n",
      "find_doppler.42 INFO     Top hit found! SNR 7.102509, Drift Rate -0.000000, index 321\n",
      "find_doppler.45 INFO     Top hit found! SNR 2.607248, Drift Rate -0.000000, index 830\n",
      "find_doppler.46 INFO     Top hit found! SNR 2.966097, Drift Rate -0.000000, index 529\n",
      "find_doppler.47 INFO     Top hit found! SNR 3.241929, Drift Rate -0.000000, index 368\n",
      "find_doppler.48 INFO     Top hit found! SNR 3.516790, Drift Rate -0.000000, index 177\n",
      "find_doppler.58 INFO     Top hit found! SNR 2.506684, Drift Rate -0.000000, index 365\n",
      "find_doppler.59 INFO     Top hit found! SNR 2.138672, Drift Rate -0.000000, index 740\n",
      "\n",
      "turbo_seti version 2.0.18\n",
      "blimpy version 2.0.11\n",
      "h5py version 2.10.0\n",
      "\n",
      "find_doppler.63 INFO     {'DIMENSION_LABELS': array([b'time', b'feed_id', b'frequency'], dtype=object), 'az_start': 0.0, 'data_type': 1, 'fch1': 1313.9634132385254, 'foff': -0.00286102294921875, 'ibeam': 1, 'machine_id': 20, 'nbeams': 1, 'nbits': 32, 'nchans': 65536, 'nifs': 1, 'rawdatafile': 'guppi_58832_17168_HIP3077_0060.0000.raw', 'source_name': 'HIP3077', 'src_dej': <Angle 40.6812 deg>, 'src_raj': <Angle 0.64995333 hourangle>, 'telescope_id': 6, 'tsamp': 1.0737418239999998, 'tstart': 58832.1987037037, 'za_start': 0.0}\n",
      "find_doppler.63 INFO     File: /datax/scratch/benjb/bDC_blc75_guppi_58832_17168_HIP3077_0060.gpuspec.0002.h5\n",
      " drift rates (min, max): (0.000000, 4.000000)\n",
      " SNR: 2.000000\n",
      "\n",
      "Starting ET search using /datax/scratch/benjb/bDC_blc75_guppi_58832_17168_HIP3077_0060.gpuspec.0002.h5\n",
      "find_doppler.63 INFO     Parameters: datafile=/datax/scratch/benjb/bDC_blc75_guppi_58832_17168_HIP3077_0060.gpuspec.0002.h5, max_drift=4, min_drift=0.0, snr=2, out_dir=/datax/scratch/benjb/, coarse_chans=None, flagging=False, n_coarse_chan=64, kernels=None, gpu_backend=True, precision=2, append_output=False, log_level_int=20, obs_info={'pulsar': 0, 'pulsar_found': 0, 'pulsar_dm': 0.0, 'pulsar_snr': 0.0, 'pulsar_stats': array([0., 0., 0., 0., 0., 0.]), 'RFI_level': 0.0, 'Mean_SEFD': 0.0, 'psrflux_Sens': 0.0, 'SEFDs_val': [0.0], 'SEFDs_freq': [0.0], 'SEFDs_freq_up': [0.0]}\n",
      "find_doppler.2  INFO     Top hit found! SNR 3.778374, Drift Rate -0.000000, index 178\n",
      "find_doppler.4  INFO     Top hit found! SNR 2.273768, Drift Rate -0.000000, index 785\n",
      "find_doppler.28 INFO     Top hit found! SNR 2.351532, Drift Rate -0.000000, index 676\n",
      "find_doppler.34 INFO     Top hit found! SNR 3.205955, Drift Rate -0.000000, index 866\n",
      "find_doppler.35 INFO     Top hit found! SNR 3.499789, Drift Rate -0.000000, index 821\n",
      "find_doppler.36 INFO     Top hit found! SNR 4.351410, Drift Rate -0.000000, index 734\n",
      "find_doppler.37 INFO     Top hit found! SNR 3.597906, Drift Rate -0.000000, index 428\n",
      "find_doppler.38 INFO     Top hit found! SNR 2.473113, Drift Rate -0.000000, index 327\n",
      "find_doppler.42 INFO     Top hit found! SNR 7.031615, Drift Rate -0.000000, index 321\n",
      "find_doppler.44 INFO     Top hit found! SNR 2.123758, Drift Rate -0.000000, index 823\n",
      "find_doppler.45 INFO     Top hit found! SNR 2.988431, Drift Rate -0.000000, index 838\n",
      "find_doppler.46 INFO     Top hit found! SNR 3.264319, Drift Rate -0.000000, index 529\n",
      "find_doppler.47 INFO     Top hit found! SNR 3.509054, Drift Rate -0.000000, index 368\n",
      "find_doppler.48 INFO     Top hit found! SNR 3.057235, Drift Rate -0.000000, index 177\n",
      "find_doppler.58 INFO     Top hit found! SNR 2.039841, Drift Rate -0.000000, index 364\n",
      "find_doppler.59 INFO     Top hit found! SNR 2.747337, Drift Rate -0.000000, index 740\n",
      "find_doppler.61 INFO     Top hit found! SNR 2.881451, Drift Rate -0.000000, index 789\n",
      "\n",
      "turbo_seti version 2.0.18\n",
      "blimpy version 2.0.11\n",
      "h5py version 2.10.0\n",
      "\n",
      "find_doppler.63 INFO     {'DIMENSION_LABELS': array([b'time', b'feed_id', b'frequency'], dtype=object), 'az_start': 0.0, 'data_type': 1, 'fch1': 1313.9634132385254, 'foff': -0.00286102294921875, 'ibeam': 1, 'machine_id': 20, 'nbeams': 1, 'nbits': 32, 'nchans': 65536, 'nifs': 1, 'rawdatafile': 'guppi_58832_17485_MESSIER031_0061.0000.raw', 'source_name': 'MESSIER031', 'src_dej': <Angle 41.2609 deg>, 'src_raj': <Angle 0.71234667 hourangle>, 'telescope_id': 6, 'tsamp': 1.0737418239999998, 'tstart': 58832.202372685184, 'za_start': 0.0}\n",
      "find_doppler.63 INFO     File: /datax/scratch/benjb/bDC_blc75_guppi_58832_17485_MESSIER031_0061.gpuspec.0002.h5\n",
      " drift rates (min, max): (0.000000, 4.000000)\n",
      " SNR: 2.000000\n",
      "\n",
      "Starting ET search using /datax/scratch/benjb/bDC_blc75_guppi_58832_17485_MESSIER031_0061.gpuspec.0002.h5\n",
      "find_doppler.63 INFO     Parameters: datafile=/datax/scratch/benjb/bDC_blc75_guppi_58832_17485_MESSIER031_0061.gpuspec.0002.h5, max_drift=4, min_drift=0.0, snr=2, out_dir=/datax/scratch/benjb/, coarse_chans=None, flagging=False, n_coarse_chan=64, kernels=None, gpu_backend=True, precision=2, append_output=False, log_level_int=20, obs_info={'pulsar': 0, 'pulsar_found': 0, 'pulsar_dm': 0.0, 'pulsar_snr': 0.0, 'pulsar_stats': array([0., 0., 0., 0., 0., 0.]), 'RFI_level': 0.0, 'Mean_SEFD': 0.0, 'psrflux_Sens': 0.0, 'SEFDs_val': [0.0], 'SEFDs_freq': [0.0], 'SEFDs_freq_up': [0.0]}\n",
      "find_doppler.2  INFO     Top hit found! SNR 3.172728, Drift Rate -0.000000, index 159\n",
      "find_doppler.4  INFO     Top hit found! SNR 2.097688, Drift Rate -0.000000, index 785\n",
      "find_doppler.28 INFO     Top hit found! SNR 2.307966, Drift Rate -0.000000, index 676\n",
      "find_doppler.34 INFO     Top hit found! SNR 3.067139, Drift Rate -0.000000, index 866\n",
      "find_doppler.35 INFO     Top hit found! SNR 3.488107, Drift Rate -0.000000, index 787\n",
      "find_doppler.36 INFO     Top hit found! SNR 4.058732, Drift Rate -0.000000, index 427\n",
      "find_doppler.37 INFO     Top hit found! SNR 3.505068, Drift Rate -0.000000, index 428\n",
      "find_doppler.38 INFO     Top hit found! SNR 2.322684, Drift Rate -0.000000, index 188\n",
      "find_doppler.42 INFO     Top hit found! SNR 6.951239, Drift Rate -0.000000, index 321\n",
      "find_doppler.44 INFO     Top hit found! SNR 2.015191, Drift Rate -0.000000, index 823\n",
      "find_doppler.45 INFO     Top hit found! SNR 3.114683, Drift Rate -0.000000, index 838\n",
      "find_doppler.46 INFO     Top hit found! SNR 3.213137, Drift Rate -0.000000, index 529\n",
      "find_doppler.47 INFO     Top hit found! SNR 3.412846, Drift Rate -0.000000, index 368\n",
      "find_doppler.48 INFO     Top hit found! SNR 2.841989, Drift Rate -0.000000, index 177\n",
      "find_doppler.59 INFO     Top hit found! SNR 3.003598, Drift Rate -0.000000, index 740\n",
      "find_doppler.63 INFO     Top hit found! SNR 2.577937, Drift Rate -0.000000, index 132\n",
      "\n",
      "turbo_seti version 2.0.18\n",
      "blimpy version 2.0.11\n",
      "h5py version 2.10.0\n",
      "\n",
      "find_doppler.63 INFO     {'DIMENSION_LABELS': array([b'time', b'feed_id', b'frequency'], dtype=object), 'az_start': 0.0, 'data_type': 1, 'fch1': 1313.9634132385254, 'foff': -0.00286102294921875, 'ibeam': 1, 'machine_id': 20, 'nbeams': 1, 'nbits': 32, 'nchans': 65536, 'nifs': 1, 'rawdatafile': 'guppi_58832_17801_HIP3223_0062.0000.raw', 'source_name': 'HIP3223', 'src_dej': <Angle 41.7401 deg>, 'src_raj': <Angle 0.6835 hourangle>, 'telescope_id': 6, 'tsamp': 1.0737418239999998, 'tstart': 58832.206030092595, 'za_start': 0.0}\n",
      "find_doppler.63 INFO     File: /datax/scratch/benjb/bDC_blc75_guppi_58832_17801_HIP3223_0062.gpuspec.0002.h5\n",
      " drift rates (min, max): (0.000000, 4.000000)\n",
      " SNR: 2.000000\n",
      "\n",
      "Starting ET search using /datax/scratch/benjb/bDC_blc75_guppi_58832_17801_HIP3223_0062.gpuspec.0002.h5\n",
      "find_doppler.63 INFO     Parameters: datafile=/datax/scratch/benjb/bDC_blc75_guppi_58832_17801_HIP3223_0062.gpuspec.0002.h5, max_drift=4, min_drift=0.0, snr=2, out_dir=/datax/scratch/benjb/, coarse_chans=None, flagging=False, n_coarse_chan=64, kernels=None, gpu_backend=True, precision=2, append_output=False, log_level_int=20, obs_info={'pulsar': 0, 'pulsar_found': 0, 'pulsar_dm': 0.0, 'pulsar_snr': 0.0, 'pulsar_stats': array([0., 0., 0., 0., 0., 0.]), 'RFI_level': 0.0, 'Mean_SEFD': 0.0, 'psrflux_Sens': 0.0, 'SEFDs_val': [0.0], 'SEFDs_freq': [0.0], 'SEFDs_freq_up': [0.0]}\n",
      "find_doppler.2  INFO     Top hit found! SNR 3.448751, Drift Rate -0.000000, index 172\n",
      "find_doppler.4  INFO     Top hit found! SNR 2.115553, Drift Rate -0.000000, index 785\n",
      "find_doppler.28 INFO     Top hit found! SNR 2.277027, Drift Rate -0.000000, index 676\n",
      "find_doppler.34 INFO     Top hit found! SNR 2.764434, Drift Rate -0.000000, index 866\n",
      "find_doppler.35 INFO     Top hit found! SNR 3.222642, Drift Rate -0.000000, index 906\n",
      "find_doppler.36 INFO     Top hit found! SNR 3.828428, Drift Rate -0.000000, index 427\n",
      "find_doppler.37 INFO     Top hit found! SNR 3.109702, Drift Rate -0.000000, index 428\n",
      "find_doppler.42 INFO     Top hit found! SNR 6.935411, Drift Rate -0.000000, index 321\n",
      "find_doppler.45 INFO     Top hit found! SNR 2.728835, Drift Rate -0.000000, index 838\n",
      "find_doppler.46 INFO     Top hit found! SNR 3.109734, Drift Rate -0.000000, index 529\n",
      "find_doppler.47 INFO     Top hit found! SNR 3.040787, Drift Rate -0.000000, index 368\n",
      "find_doppler.48 INFO     Top hit found! SNR 2.329248, Drift Rate -0.000000, index 177\n",
      "find_doppler.63 INFO     Top hit found! SNR 4.292918, Drift Rate -0.000000, index 137\n",
      "Done!\n"
     ]
    }
   ],
   "source": [
    "print('Beginning turboSETI search (FindDoppler version) ...')\n",
    "\n",
    "data_loc = '/datax/scratch/benjb/'\n",
    "\n",
    "for i in range(len(lfiles)):\n",
    "    doppler = FindDoppler(data_loc + 'bDC_' + lfiles[i],\n",
    "                      max_drift = 4,\n",
    "                      snr = 2,       \n",
    "                      out_dir = data_loc, # This is where the turboSETI output files will be stored.\n",
    "                      n_coarse_chan = 64,\n",
    "                      gpu_backend = True\n",
    "                      #blank_dc = True\n",
    "                     )\n",
    "    doppler.search()\n",
    "\n",
    "print('Done!')\n"
   ]
  },
  {
   "cell_type": "code",
   "execution_count": 5,
   "metadata": {},
   "outputs": [
    {
     "name": "stdout",
     "output_type": "stream",
     "text": [
      "Beginning turboSETI search ...\n",
      "Done!\n"
     ]
    }
   ],
   "source": [
    "print('Beginning turboSETI search (command line version) ...')\n",
    "\n",
    "for i in range(len(lfiles)):\n",
    "    # Execute turboSETI in the terminal\n",
    "    console = 'turboSETI ' + DATADIR + lfiles[i] + ' -M 4 -s 10 -o' + '/datax/scratch/benjb/'\n",
    "    os.system(console)\n",
    "\n",
    "print('Done!')"
   ]
  },
  {
   "cell_type": "code",
   "execution_count": 5,
   "metadata": {},
   "outputs": [
    {
     "name": "stdout",
     "output_type": "stream",
     "text": [
      "Beginning plotSETI algorithm ...\n",
      "plotSETI -f 3 -o /datax/scratch/benjb/m31_data/ /datax/scratch/benjb/m31_data/\n",
      "Done!\n"
     ]
    }
   ],
   "source": [
    "print('Beginning plotSETI algorithm ...')\n",
    "\n",
    "console = \"plotSETI -f 3 -o \" + DATADIR + \" \" + DATADIR\n",
    "print(console)\n",
    "os.system(console)\n",
    "\n",
    "print('Done!')"
   ]
  },
  {
   "cell_type": "code",
   "execution_count": null,
   "metadata": {},
   "outputs": [],
   "source": [
    "DATADIR = '/datag/pipeline/AGBT19B_999_121/blc75_blp05/'\n",
    "lfiles = ['blc75_guppi_58832_16209_MESSIER031_0057.gpuspec.0000.h5',\n",
    "'blc75_guppi_58832_16530_HIP2792_0058.gpuspec.0000.h5',\n",
    "'blc75_guppi_58832_16851_MESSIER031_0059.gpuspec.0000.h5',\n",
    "'blc75_guppi_58832_17168_HIP3077_0060.gpuspec.0000.h5',\n",
    "'blc75_guppi_58832_17485_MESSIER031_0061.gpuspec.0000.h5',\n",
    "'blc75_guppi_58832_17801_HIP3223_0062.gpuspec.0000.h5']"
   ]
  },
  {
   "cell_type": "code",
   "execution_count": 8,
   "metadata": {},
   "outputs": [
    {
     "name": "stdout",
     "output_type": "stream",
     "text": [
      "/datag/pipeline/AGBT19B_999_121/blc72_blp02/blc72_guppi_58832_16209_MESSIER031_0057.gpuspec.0002.h5\n",
      "/datag/pipeline/AGBT19B_999_121/blc72_blp02/blc72_guppi_58832_16530_HIP2792_0058.gpuspec.0002.h5\n",
      "/datag/pipeline/AGBT19B_999_121/blc72_blp02/blc72_guppi_58832_16851_MESSIER031_0059.gpuspec.0002.h5\n",
      "/datag/pipeline/AGBT19B_999_121/blc72_blp02/blc72_guppi_58832_17168_HIP3077_0060.gpuspec.0002.h5\n",
      "/datag/pipeline/AGBT19B_999_121/blc72_blp02/blc72_guppi_58832_17485_MESSIER031_0061.gpuspec.0002.h5\n",
      "/datag/pipeline/AGBT19B_999_121/blc72_blp02/blc72_guppi_58832_17801_HIP3223_0062.gpuspec.0002.h5\n",
      "\n"
     ]
    }
   ],
   "source": [
    "# Create a simple .lst file of the .h5 files in the data directory\n",
    "h5_list = sorted(glob.glob(os.path.join(DATADIR, '*.h5')))\n",
    "h5_list = [DATADIR + file for file in lfiles]\n",
    "    \n",
    "# This writes the .h5 files into a .lst, as required by the find_event_pipeline:\n",
    "h5_list_path = os.path.join(data_loc,'h5_files.lst')\n",
    "with open(h5_list_path, 'w') as f:\n",
    "    for h5_path in h5_list:\n",
    "        f.write(h5_path + '\\n')\n",
    "\n",
    "# You don't have to print, but it's a good way to check that your list is in the correct order:\n",
    "with open(h5_list_path, 'r') as f:\n",
    "    print(f.read())"
   ]
  },
  {
   "cell_type": "code",
   "execution_count": 40,
   "metadata": {},
   "outputs": [
    {
     "name": "stdout",
     "output_type": "stream",
     "text": [
      "/datax/scratch/benjb/bDC_blc75_guppi_58832_16209_MESSIER031_0057.gpuspec.0002.dat\n",
      "/datax/scratch/benjb/bDC_blc75_guppi_58832_16530_HIP2792_0058.gpuspec.0002.dat\n",
      "/datax/scratch/benjb/bDC_blc75_guppi_58832_16851_MESSIER031_0059.gpuspec.0002.dat\n",
      "/datax/scratch/benjb/bDC_blc75_guppi_58832_17168_HIP3077_0060.gpuspec.0002.dat\n",
      "/datax/scratch/benjb/bDC_blc75_guppi_58832_17485_MESSIER031_0061.gpuspec.0002.dat\n",
      "/datax/scratch/benjb/bDC_blc75_guppi_58832_17801_HIP3223_0062.gpuspec.0002.dat\n",
      "\n"
     ]
    }
   ],
   "source": [
    "# Create a simple .lst file of the .dat files in the data directory\n",
    "dat_list = sorted(glob.glob(os.path.join(data_loc, 'bDC_blc75*.dat')))\n",
    "#dat_list = [data_loc + file[:-2] + 'dat' for file in lfiles]\n",
    "    \n",
    "# This writes the .dat files into a .lst, as required by the find_event_pipeline:\n",
    "dat_list_path = os.path.join(data_loc, 'dat_files.lst')\n",
    "with open(dat_list_path, 'w') as f:\n",
    "    for dat_path in dat_list:\n",
    "        f.write(dat_path + '\\n')\n",
    "\n",
    "# You don't have to print, but it's a good way to check that your list is in the correct order:\n",
    "with open(dat_list_path, 'r') as f:\n",
    "    print(f.read())"
   ]
  },
  {
   "cell_type": "code",
   "execution_count": 43,
   "metadata": {},
   "outputs": [
    {
     "name": "stdout",
     "output_type": "stream",
     "text": [
      "\n",
      "************   BEGINNING FIND_EVENT PIPELINE   **************\n",
      "\n",
      "Assuming the first observation is an ON\n",
      "find_event_pipeline: file = bDC_blc75_guppi_58832_16209_MESSIER031_0057.gpuspec.0002.dat, tstart = 58832.18760416667, source_name = MESSIER031\n",
      "find_event_pipeline: file = bDC_blc75_guppi_58832_16530_HIP2792_0058.gpuspec.0002.dat, tstart = 58832.19131944444, source_name = HIP2792\n",
      "find_event_pipeline: file = bDC_blc75_guppi_58832_16851_MESSIER031_0059.gpuspec.0002.dat, tstart = 58832.19503472222, source_name = MESSIER031\n",
      "find_event_pipeline: file = bDC_blc75_guppi_58832_17168_HIP3077_0060.gpuspec.0002.dat, tstart = 58832.1987037037, source_name = HIP3077\n",
      "find_event_pipeline: file = bDC_blc75_guppi_58832_17485_MESSIER031_0061.gpuspec.0002.dat, tstart = 58832.202372685184, source_name = MESSIER031\n",
      "find_event_pipeline: file = bDC_blc75_guppi_58832_17801_HIP3223_0062.gpuspec.0002.dat, tstart = 58832.206030092595, source_name = HIP3223\n",
      "There are 6 total files in the filelist /datax/scratch/benjb/dat_files.lst\n",
      "therefore, looking for events in 1 on-off set(s)\n",
      "with a minimum SNR of 2\n",
      "Present in all ON sources with RFI rejection from the OFF sources\n",
      "including signals with zero drift\n",
      "saving the output files\n",
      "\n",
      "*** First DAT file in set:  bDC_blc75_guppi_58832_16209_MESSIER031_0057.gpuspec.0002.dat ***\n",
      "\n",
      "------   o   -------\n",
      "Loading data...\n",
      "Loaded 13 hits from /datax/scratch/benjb/bDC_blc75_guppi_58832_16209_MESSIER031_0057.gpuspec.0002.dat (ON)\n",
      "Loaded 15 hits from /datax/scratch/benjb/bDC_blc75_guppi_58832_16530_HIP2792_0058.gpuspec.0002.dat (OFF)\n",
      "Loaded 15 hits from /datax/scratch/benjb/bDC_blc75_guppi_58832_16851_MESSIER031_0059.gpuspec.0002.dat (ON)\n",
      "Loaded 17 hits from /datax/scratch/benjb/bDC_blc75_guppi_58832_17168_HIP3077_0060.gpuspec.0002.dat (OFF)\n",
      "Loaded 16 hits from /datax/scratch/benjb/bDC_blc75_guppi_58832_17485_MESSIER031_0061.gpuspec.0002.dat (ON)\n",
      "Loaded 13 hits from /datax/scratch/benjb/bDC_blc75_guppi_58832_17801_HIP3223_0062.gpuspec.0002.dat (OFF)\n",
      "All data loaded!\n",
      "\n",
      "Finding events in this cadence...\n",
      "Found a total of 44 hits above the SNR cut in this cadence!\n",
      "Found a total of 14 hits in only the on observations in this cadence!\n",
      "NOTE: Found no events across this cadence :(\n",
      "Search time: 0.17 sec\n",
      "------   o   -------\n",
      "Sorry, no potential candidates with your given parameters :(\n",
      "*** find_event_output_dataframe is complete ***\n",
      "Sorry, no events to save :(\n"
     ]
    },
    {
     "data": {
      "text/plain": [
       "[]"
      ]
     },
     "execution_count": 43,
     "metadata": {},
     "output_type": "execute_result"
    }
   ],
   "source": [
    "csvf_path = os.path.join(data_loc, 'blc75_found_event_table_3.csv')\n",
    "find_event_pipeline(dat_list_path, \n",
    "                    #h5_list_path,\n",
    "                    SNR_cut=2,\n",
    "                    check_zero_drift=True,\n",
    "                    filter_threshold = 3, \n",
    "                    number_in_cadence = len(dat_list), \n",
    "                    csv_name=csvf_path, \n",
    "                    saving=True)"
   ]
  },
  {
   "cell_type": "code",
   "execution_count": 12,
   "metadata": {},
   "outputs": [
    {
     "name": "stdout",
     "output_type": "stream",
     "text": [
      "plot_event_pipeline: Opened file /datax/scratch/benjb/m31_data/found_event_table.csv\n",
      "plot_event_pipeline: file = blc71_guppi_58832_16209_MESSIER031_0057.gpuspec.0000.h5, tstart = 58832.18760416667, source_name = MESSIER031\n",
      "plot_event_pipeline: file = blc71_guppi_58832_16530_HIP2792_0058.gpuspec.0000.h5, tstart = 58832.19131944444, source_name = HIP2792\n",
      "plot_event_pipeline: file = blc71_guppi_58832_16851_MESSIER031_0059.gpuspec.0000.h5, tstart = 58832.19503472222, source_name = MESSIER031\n",
      "plot_event_pipeline: file = blc71_guppi_58832_17168_HIP3077_0060.gpuspec.0000.h5, tstart = 58832.1987037037, source_name = HIP3077\n",
      "plot_event_pipeline: file = blc71_guppi_58832_17485_MESSIER031_0061.gpuspec.0000.h5, tstart = 58832.202372685184, source_name = MESSIER031\n",
      "plot_event_pipeline: file = blc71_guppi_58832_17801_HIP3223_0062.gpuspec.0000.h5, tstart = 58832.206030092595, source_name = HIP3223\n",
      "Plotting some events for:  MESSIER031\n",
      "There are 2 total events in the csv file /datax/scratch/benjb/m31_data/found_event_table.csv\n",
      "therefore, you are about to make 2 .png files.\n"
     ]
    }
   ],
   "source": [
    "# and finally we plot\n",
    "plot_event_pipeline(csvf_path, # full path of the CSV file built by find_event_pipeline()\n",
    "                    h5_list_path, # full path of text file containing the list of .h5 files\n",
    "                    filter_spec='f{}'.format(2), # filter threshold\n",
    "                    user_validation=False) # Non-interactive"
   ]
  },
  {
   "cell_type": "code",
   "execution_count": null,
   "metadata": {},
   "outputs": [],
   "source": []
  }
 ],
 "metadata": {
  "kernelspec": {
   "display_name": "base",
   "language": "python",
   "name": "python3"
  },
  "language_info": {
   "codemirror_mode": {
    "name": "ipython",
    "version": 3
   },
   "file_extension": ".py",
   "mimetype": "text/x-python",
   "name": "python",
   "nbconvert_exporter": "python",
   "pygments_lexer": "ipython3",
   "version": "3.7.-1"
  }
 },
 "nbformat": 4,
 "nbformat_minor": 2
}
