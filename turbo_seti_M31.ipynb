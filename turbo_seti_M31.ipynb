{
 "cells": [
  {
   "cell_type": "code",
   "execution_count": 1,
   "metadata": {},
   "outputs": [],
   "source": [
    "import bldw\n",
    "import glob\n",
    "import numpy as np\n",
    "import blimpy as bl\n",
    "import matplotlib.pyplot as plt\n",
    "import setigen\n",
    "import os\n",
    "%matplotlib inline\n",
    "\n",
    "# for in-line (non-terminal) turboSETI\n",
    "# as in Elan Lavie's notebook\n",
    "import turbo_seti.find_doppler.seti_event as turbo\n",
    "import turbo_seti.find_event as find\n",
    "from turbo_seti.find_doppler.find_doppler import FindDoppler\n",
    "from turbo_seti.find_event.find_event_pipeline import find_event_pipeline\n",
    "from turbo_seti.find_event.plot_event_pipeline import plot_event_pipeline"
   ]
  },
  {
   "cell_type": "code",
   "execution_count": 2,
   "metadata": {},
   "outputs": [],
   "source": [
    "DATADIR = '/datag/pipeline/AGBT19B_999_121/blc72_blp02/'\n",
    "lfiles = ['blc72_guppi_58832_16209_MESSIER031_0057.gpuspec.0000.h5',\n",
    "'blc72_guppi_58832_16530_HIP2792_0058.gpuspec.0000.h5',\n",
    "'blc72_guppi_58832_16851_MESSIER031_0059.gpuspec.0000.h5',\n",
    "'blc72_guppi_58832_17168_HIP3077_0060.gpuspec.0000.h5',\n",
    "'blc72_guppi_58832_17485_MESSIER031_0061.gpuspec.0000.h5',\n",
    "'blc72_guppi_58832_17801_HIP3223_0062.gpuspec.0000.h5']"
   ]
  },
  {
   "cell_type": "code",
   "execution_count": 5,
   "metadata": {},
   "outputs": [],
   "source": [
    "for file in lfiles:\n",
    "    console = f'cp {file} /datax/scratch/benjb/'\n",
    "    os.system(console)"
   ]
  },
  {
   "cell_type": "code",
   "execution_count": 1,
   "metadata": {},
   "outputs": [
    {
     "name": "stdout",
     "output_type": "stream",
     "text": [
      "2\n"
     ]
    }
   ],
   "source": [
    "print(1+1)"
   ]
  },
  {
   "cell_type": "code",
   "execution_count": 3,
   "metadata": {},
   "outputs": [
    {
     "name": "stdout",
     "output_type": "stream",
     "text": [
      "Beginning turboSETI search ...\n"
     ]
    }
   ],
   "source": [
    "print('Beginning turboSETI search ...')\n",
    "\n",
    "for i in range(len(lfiles)-1):\n",
    "    # Execute turboSETI in the terminal\n",
    "    console = 'turboSETI ' + DATADIR + lfiles[i+1] + ' -M 4 -s 10 -o' + '/datax/scratch/benjb/'\n",
    "    os.system(console)\n",
    "\n",
    "print('Done!')"
   ]
  },
  {
   "cell_type": "code",
   "execution_count": 5,
   "metadata": {},
   "outputs": [
    {
     "name": "stdout",
     "output_type": "stream",
     "text": [
      "Beginning plotSETI algorithm ...\n",
      "plotSETI -f 3 -o /datax/scratch/benjb/m31_data/ /datax/scratch/benjb/m31_data/\n",
      "Done!\n"
     ]
    }
   ],
   "source": [
    "print('Beginning plotSETI algorithm ...')\n",
    "\n",
    "console = \"plotSETI -f 3 -o \" + DATADIR + \" \" + DATADIR\n",
    "print(console)\n",
    "os.system(console)\n",
    "\n",
    "print('Done!')"
   ]
  },
  {
   "cell_type": "code",
   "execution_count": 11,
   "metadata": {},
   "outputs": [
    {
     "name": "stdout",
     "output_type": "stream",
     "text": [
      "/datax/scratch/benjb/m31_data/blc71_guppi_58832_16209_MESSIER031_0057.gpuspec.0000.h5\n",
      "/datax/scratch/benjb/m31_data/blc71_guppi_58832_16530_HIP2792_0058.gpuspec.0000.h5\n",
      "/datax/scratch/benjb/m31_data/blc71_guppi_58832_16851_MESSIER031_0059.gpuspec.0000.h5\n",
      "/datax/scratch/benjb/m31_data/blc71_guppi_58832_17168_HIP3077_0060.gpuspec.0000.h5\n",
      "/datax/scratch/benjb/m31_data/blc71_guppi_58832_17485_MESSIER031_0061.gpuspec.0000.h5\n",
      "/datax/scratch/benjb/m31_data/blc71_guppi_58832_17801_HIP3223_0062.gpuspec.0000.h5\n",
      "\n"
     ]
    }
   ],
   "source": [
    "# Create a simple .lst file of the .h5 files in the data directory\n",
    "h5_list = sorted(glob.glob(os.path.join(DATADIR, '*.h5')))\n",
    "    \n",
    "# This writes the .h5 files into a .lst, as required by the find_event_pipeline:\n",
    "h5_list_path = os.path.join(DATADIR,'h5_files.lst')\n",
    "with open(h5_list_path, 'w') as f:\n",
    "    for h5_path in h5_list:\n",
    "        f.write(h5_path + '\\n')\n",
    "\n",
    "# You don't have to print, but it's a good way to check that your list is in the correct order:\n",
    "with open(h5_list_path, 'r') as f:\n",
    "    print(f.read())"
   ]
  },
  {
   "cell_type": "code",
   "execution_count": 7,
   "metadata": {},
   "outputs": [
    {
     "name": "stdout",
     "output_type": "stream",
     "text": [
      "/datax/scratch/benjb/m31_data/blc71_guppi_58832_16209_MESSIER031_0057.gpuspec.0000.dat\n",
      "/datax/scratch/benjb/m31_data/blc71_guppi_58832_16530_HIP2792_0058.gpuspec.0000.dat\n",
      "/datax/scratch/benjb/m31_data/blc71_guppi_58832_16851_MESSIER031_0059.gpuspec.0000.dat\n",
      "/datax/scratch/benjb/m31_data/blc71_guppi_58832_17168_HIP3077_0060.gpuspec.0000.dat\n",
      "/datax/scratch/benjb/m31_data/blc71_guppi_58832_17485_MESSIER031_0061.gpuspec.0000.dat\n",
      "/datax/scratch/benjb/m31_data/blc71_guppi_58832_17801_HIP3223_0062.gpuspec.0000.dat\n",
      "\n"
     ]
    }
   ],
   "source": [
    "# Create a simple .lst file of the .dat files in the data directory\n",
    "dat_list = sorted(glob.glob(os.path.join(DATADIR, '*.dat')))\n",
    "    \n",
    "# This writes the .dat files into a .lst, as required by the find_event_pipeline:\n",
    "dat_list_path = os.path.join(DATADIR, 'dat_files.lst')\n",
    "with open(dat_list_path, 'w') as f:\n",
    "    for dat_path in dat_list:\n",
    "        f.write(dat_path + '\\n')\n",
    "\n",
    "# You don't have to print, but it's a good way to check that your list is in the correct order:\n",
    "with open(dat_list_path, 'r') as f:\n",
    "    print(f.read())"
   ]
  },
  {
   "cell_type": "code",
   "execution_count": 9,
   "metadata": {},
   "outputs": [
    {
     "name": "stdout",
     "output_type": "stream",
     "text": [
      "\n",
      "************   BEGINNING FIND_EVENT PIPELINE   **************\n",
      "\n",
      "Assuming the first observation is an ON\n",
      "find_event_pipeline: file = blc71_guppi_58832_16209_MESSIER031_0057.gpuspec.0000.dat, tstart = 58832.18760416667, source_name = MESSIER031\n",
      "find_event_pipeline: file = blc71_guppi_58832_16530_HIP2792_0058.gpuspec.0000.dat, tstart = 58832.19131944444, source_name = HIP2792\n",
      "find_event_pipeline: file = blc71_guppi_58832_16851_MESSIER031_0059.gpuspec.0000.dat, tstart = 58832.19503472222, source_name = MESSIER031\n",
      "find_event_pipeline: file = blc71_guppi_58832_17168_HIP3077_0060.gpuspec.0000.dat, tstart = 58832.1987037037, source_name = HIP3077\n",
      "find_event_pipeline: file = blc71_guppi_58832_17485_MESSIER031_0061.gpuspec.0000.dat, tstart = 58832.202372685184, source_name = MESSIER031\n",
      "find_event_pipeline: file = blc71_guppi_58832_17801_HIP3223_0062.gpuspec.0000.dat, tstart = 58832.206030092595, source_name = HIP3223\n",
      "There are 6 total files in the filelist /datax/scratch/benjb/m31_data/dat_files.lst\n",
      "therefore, looking for events in 1 on-off set(s)\n",
      "with a minimum SNR of 10\n",
      "Present in at least one ON source with RFI rejection from the OFF sources\n",
      "not including signals with zero drift\n",
      "saving the output files\n",
      "\n",
      "*** First DAT file in set:  blc71_guppi_58832_16209_MESSIER031_0057.gpuspec.0000.dat ***\n",
      "\n",
      "------   o   -------\n",
      "Loading data...\n",
      "Loaded 87 hits from /datax/scratch/benjb/m31_data/blc71_guppi_58832_16209_MESSIER031_0057.gpuspec.0000.dat (ON)\n",
      "Loaded 86 hits from /datax/scratch/benjb/m31_data/blc71_guppi_58832_16530_HIP2792_0058.gpuspec.0000.dat (OFF)\n",
      "Loaded 84 hits from /datax/scratch/benjb/m31_data/blc71_guppi_58832_16851_MESSIER031_0059.gpuspec.0000.dat (ON)\n",
      "Loaded 85 hits from /datax/scratch/benjb/m31_data/blc71_guppi_58832_17168_HIP3077_0060.gpuspec.0000.dat (OFF)\n",
      "Loaded 84 hits from /datax/scratch/benjb/m31_data/blc71_guppi_58832_17485_MESSIER031_0061.gpuspec.0000.dat (ON)\n",
      "Loaded 85 hits from /datax/scratch/benjb/m31_data/blc71_guppi_58832_17801_HIP3223_0062.gpuspec.0000.dat (OFF)\n",
      "All data loaded!\n",
      "\n",
      "Finding events in this cadence...\n",
      "Found a total of 30 hits above the SNR cut in this cadence!\n",
      "Found a total of 2 hits in only the on observations in this cadence!\n",
      "Filter level is 2 - returning this table...\n",
      "Search time: 0.15 sec\n",
      "------   o   -------\n",
      "*** find_event_output_dataframe is complete ***\n",
      "find_event_pipeline: Saved CSV file to /datax/scratch/benjb/m31_data/found_event_table.csv\n"
     ]
    },
    {
     "data": {
      "text/html": [
       "<div>\n",
       "<style scoped>\n",
       "    .dataframe tbody tr th:only-of-type {\n",
       "        vertical-align: middle;\n",
       "    }\n",
       "\n",
       "    .dataframe tbody tr th {\n",
       "        vertical-align: top;\n",
       "    }\n",
       "\n",
       "    .dataframe thead th {\n",
       "        text-align: right;\n",
       "    }\n",
       "</style>\n",
       "<table border=\"1\" class=\"dataframe\">\n",
       "  <thead>\n",
       "    <tr style=\"text-align: right;\">\n",
       "      <th></th>\n",
       "      <th>TopHitNum</th>\n",
       "      <th>DriftRate</th>\n",
       "      <th>SNR</th>\n",
       "      <th>Freq</th>\n",
       "      <th>ChanIndx</th>\n",
       "      <th>FreqStart</th>\n",
       "      <th>FreqEnd</th>\n",
       "      <th>CoarseChanNum</th>\n",
       "      <th>FullNumHitsInRange</th>\n",
       "      <th>FileID</th>\n",
       "      <th>...</th>\n",
       "      <th>MJD</th>\n",
       "      <th>RA</th>\n",
       "      <th>DEC</th>\n",
       "      <th>DELTAT</th>\n",
       "      <th>DELTAF</th>\n",
       "      <th>Hit_ID</th>\n",
       "      <th>status</th>\n",
       "      <th>in_n_ons</th>\n",
       "      <th>RFI_in_range</th>\n",
       "      <th>delta_t</th>\n",
       "    </tr>\n",
       "  </thead>\n",
       "  <tbody>\n",
       "    <tr>\n",
       "      <th>38</th>\n",
       "      <td>39</td>\n",
       "      <td>0.095665</td>\n",
       "      <td>10.150467</td>\n",
       "      <td>1986.030619</td>\n",
       "      <td>630769</td>\n",
       "      <td>1986.032254</td>\n",
       "      <td>1986.028990</td>\n",
       "      <td>26</td>\n",
       "      <td>13185</td>\n",
       "      <td>blc71_guppi_58832_16209_MESSIER031_0057.gpuspe...</td>\n",
       "      <td>...</td>\n",
       "      <td>58832.187604166669</td>\n",
       "      <td>0h42m44.448s</td>\n",
       "      <td>41d16m03.72s</td>\n",
       "      <td>18.253611</td>\n",
       "      <td>-2.793968</td>\n",
       "      <td></td>\n",
       "      <td>on_table_1</td>\n",
       "      <td></td>\n",
       "      <td>0</td>\n",
       "      <td>0.0</td>\n",
       "    </tr>\n",
       "    <tr>\n",
       "      <th>45</th>\n",
       "      <td>46</td>\n",
       "      <td>-0.038266</td>\n",
       "      <td>11.853837</td>\n",
       "      <td>1975.450076</td>\n",
       "      <td>223389</td>\n",
       "      <td>1975.451710</td>\n",
       "      <td>1975.448447</td>\n",
       "      <td>30</td>\n",
       "      <td>13371</td>\n",
       "      <td>blc71_guppi_58832_16209_MESSIER031_0057.gpuspe...</td>\n",
       "      <td>...</td>\n",
       "      <td>58832.187604166669</td>\n",
       "      <td>0h42m44.448s</td>\n",
       "      <td>41d16m03.72s</td>\n",
       "      <td>18.253611</td>\n",
       "      <td>-2.793968</td>\n",
       "      <td></td>\n",
       "      <td>on_table_1</td>\n",
       "      <td></td>\n",
       "      <td>0</td>\n",
       "      <td>0.0</td>\n",
       "    </tr>\n",
       "  </tbody>\n",
       "</table>\n",
       "<p>2 rows × 21 columns</p>\n",
       "</div>"
      ],
      "text/plain": [
       "    TopHitNum  DriftRate        SNR         Freq  ChanIndx    FreqStart  \\\n",
       "38         39   0.095665  10.150467  1986.030619    630769  1986.032254   \n",
       "45         46  -0.038266  11.853837  1975.450076    223389  1975.451710   \n",
       "\n",
       "        FreqEnd  CoarseChanNum  FullNumHitsInRange  \\\n",
       "38  1986.028990             26               13185   \n",
       "45  1975.448447             30               13371   \n",
       "\n",
       "                                               FileID  ...  \\\n",
       "38  blc71_guppi_58832_16209_MESSIER031_0057.gpuspe...  ...   \n",
       "45  blc71_guppi_58832_16209_MESSIER031_0057.gpuspe...  ...   \n",
       "\n",
       "                   MJD            RA           DEC     DELTAT     DELTAF  \\\n",
       "38  58832.187604166669  0h42m44.448s  41d16m03.72s  18.253611  -2.793968   \n",
       "45  58832.187604166669  0h42m44.448s  41d16m03.72s  18.253611  -2.793968   \n",
       "\n",
       "   Hit_ID      status in_n_ons RFI_in_range  delta_t  \n",
       "38         on_table_1                     0      0.0  \n",
       "45         on_table_1                     0      0.0  \n",
       "\n",
       "[2 rows x 21 columns]"
      ]
     },
     "execution_count": 9,
     "metadata": {},
     "output_type": "execute_result"
    }
   ],
   "source": [
    "csvf_path = os.path.join(DATADIR, 'found_event_table.csv')\n",
    "find_event_pipeline(dat_list_path, \n",
    "                    filter_threshold = 2, \n",
    "                    number_in_cadence = len(dat_list), \n",
    "                    csv_name=csvf_path, \n",
    "                    saving=True)"
   ]
  },
  {
   "cell_type": "code",
   "execution_count": 12,
   "metadata": {},
   "outputs": [
    {
     "name": "stdout",
     "output_type": "stream",
     "text": [
      "plot_event_pipeline: Opened file /datax/scratch/benjb/m31_data/found_event_table.csv\n",
      "plot_event_pipeline: file = blc71_guppi_58832_16209_MESSIER031_0057.gpuspec.0000.h5, tstart = 58832.18760416667, source_name = MESSIER031\n",
      "plot_event_pipeline: file = blc71_guppi_58832_16530_HIP2792_0058.gpuspec.0000.h5, tstart = 58832.19131944444, source_name = HIP2792\n",
      "plot_event_pipeline: file = blc71_guppi_58832_16851_MESSIER031_0059.gpuspec.0000.h5, tstart = 58832.19503472222, source_name = MESSIER031\n",
      "plot_event_pipeline: file = blc71_guppi_58832_17168_HIP3077_0060.gpuspec.0000.h5, tstart = 58832.1987037037, source_name = HIP3077\n",
      "plot_event_pipeline: file = blc71_guppi_58832_17485_MESSIER031_0061.gpuspec.0000.h5, tstart = 58832.202372685184, source_name = MESSIER031\n",
      "plot_event_pipeline: file = blc71_guppi_58832_17801_HIP3223_0062.gpuspec.0000.h5, tstart = 58832.206030092595, source_name = HIP3223\n",
      "Plotting some events for:  MESSIER031\n",
      "There are 2 total events in the csv file /datax/scratch/benjb/m31_data/found_event_table.csv\n",
      "therefore, you are about to make 2 .png files.\n"
     ]
    }
   ],
   "source": [
    "# and finally we plot\n",
    "plot_event_pipeline(csvf_path, # full path of the CSV file built by find_event_pipeline()\n",
    "                    h5_list_path, # full path of text file containing the list of .h5 files\n",
    "                    filter_spec='f{}'.format(2), # filter threshold\n",
    "                    user_validation=False) # Non-interactive"
   ]
  },
  {
   "cell_type": "code",
   "execution_count": null,
   "metadata": {},
   "outputs": [],
   "source": []
  }
 ],
 "metadata": {
  "kernelspec": {
   "display_name": "base",
   "language": "python",
   "name": "python3"
  },
  "language_info": {
   "codemirror_mode": {
    "name": "ipython",
    "version": 3
   },
   "file_extension": ".py",
   "mimetype": "text/x-python",
   "name": "python",
   "nbconvert_exporter": "python",
   "pygments_lexer": "ipython3",
   "version": "3.7.6"
  }
 },
 "nbformat": 4,
 "nbformat_minor": 2
}
