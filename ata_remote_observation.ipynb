{
 "cells": [
  {
   "cell_type": "code",
   "execution_count": 2,
   "metadata": {},
   "outputs": [
    {
     "name": "stdout",
     "output_type": "stream",
     "text": [
      "numexpr.utils   INFO     Note: NumExpr detected 40 cores but \"NUMEXPR_MAX_THREADS\" not set, so enforcing safe limit of 8.\n",
      "numexpr.utils   INFO     NumExpr defaulting to 8 threads.\n"
     ]
    }
   ],
   "source": [
    "import bldw\n",
    "import glob\n",
    "import numpy as np\n",
    "import blimpy as bl\n",
    "import matplotlib.pyplot as plt\n",
    "import pandas as pd\n",
    "import setigen\n",
    "import os\n",
    "import turbo_seti\n",
    "%matplotlib inline\n",
    "\n",
    "import turbo_seti.find_doppler.seti_event as turbo\n",
    "import turbo_seti.find_event as find\n",
    "from turbo_seti.find_doppler.find_doppler import FindDoppler\n",
    "from turbo_seti.find_event.find_event_pipeline import find_event_pipeline\n",
    "from turbo_seti.find_event.plot_event_pipeline import plot_event_pipeline"
   ]
  },
  {
   "cell_type": "code",
   "execution_count": 3,
   "metadata": {},
   "outputs": [
    {
     "name": "stdout",
     "output_type": "stream",
     "text": [
      "DATADIR /datax/scratch/benjb/ata_remote_observations/\n"
     ]
    }
   ],
   "source": [
    "import os\n",
    "import time\n",
    "from pathlib import Path\n",
    "from turbo_seti.find_doppler.find_doppler import FindDoppler\n",
    "DATADIR = \"/datax/scratch/benjb/ata_remote_observations/\"\n",
    "print ('DATADIR', DATADIR)"
   ]
  },
  {
   "cell_type": "code",
   "execution_count": 23,
   "metadata": {},
   "outputs": [],
   "source": [
    "# Get rid of any pre-existing output files from a prior run.\n",
    "for x_file in sorted(os.listdir(DATADIR)):\n",
    "    x_type = x_file.split('.')[-1]\n",
    "    if x_type != 'fbh5':\n",
    "        os.remove(DATADIR + x_file)"
   ]
  },
  {
   "cell_type": "code",
   "execution_count": 5,
   "metadata": {},
   "outputs": [
    {
     "name": "stdout",
     "output_type": "stream",
     "text": [
      "['/datax/scratch/benjb/ata_remote_observations/fil_60528_62453_21002929_mars_0001-beam0000.fbh5', '/datax/scratch/benjb/ata_remote_observations/fil_60528_62453_21002929_mars_0001-beam0001.fbh5']\n"
     ]
    }
   ],
   "source": [
    "file_list = glob.glob('/datax/scratch/benjb/ata_remote_observations/*.fbh5')\n",
    "print(file_list)"
   ]
  },
  {
   "cell_type": "code",
   "execution_count": 6,
   "metadata": {},
   "outputs": [
    {
     "name": "stdout",
     "output_type": "stream",
     "text": [
      "\n",
      "turbo_seti version 2.3.2\n",
      "blimpy version 2.1.4\n",
      "h5py version 2.10.0\n",
      "hdf5plugin version 2.1.2\n",
      "HDF5 library version 1.10.5\n",
      "\n",
      "\n",
      "data_handler    INFO     From blimpy, n_coarse_chan=48\n",
      "\n",
      "tutorial_1: FindDoppler object was instantiated.\n"
     ]
    }
   ],
   "source": [
    "# Get ready for search by instantiating the doppler object.\n",
    "doppler = FindDoppler(file_list[0],\n",
    "                      max_drift = 4,\n",
    "                      snr = 10,\n",
    "                      out_dir = DATADIR # This is where the turboSETI output files will be stored.\n",
    "                     )\n",
    "print(\"\\ntutorial_1: FindDoppler object was instantiated.\")"
   ]
  },
  {
   "cell_type": "code",
   "execution_count": 7,
   "metadata": {},
   "outputs": [
    {
     "name": "stdout",
     "output_type": "stream",
     "text": [
      "HDF5 header info: {'DIMENSION_LABELS': array([b'time', b'feed_id', b'frequency'], dtype=object), 'az_start': 234.47120666503906, 'barycentric': 0, 'data_type': 0, 'fch1': 8351.750000953674, 'foff': 1.9073486328125e-06, 'ibeam': 0, 'machine_id': 0, 'nbeams': 2, 'nbits': 32, 'nchans': 50331648, 'nifs': 1, 'pulsarcentric': 0, 'source_name': 'mars', 'src_dej': <Angle 21.60411952 deg>, 'src_raj': <Angle 4.64228878 hourangle>, 'telescope_id': 9, 'tsamp': 16.777216, 'tstart': 60528.72283564815, 'za_start': 28.130512237548828}\n",
      "\n",
      "Starting ET search with parameters: datafile=/datax/scratch/benjb/ata_remote_observations/fil_60528_62453_21002929_mars_0001-beam0000.fbh5, max_drift=4, min_drift=1e-05, snr=10, out_dir=/datax/scratch/benjb/ata_remote_observations/, coarse_chans=None, flagging=False, n_coarse_chan=48, kernels=None, gpu_id=0, gpu_backend=False, blank_dc=True, precision=1, append_output=False, log_level_int=20, obs_info={'pulsar': 0, 'pulsar_found': 0, 'pulsar_dm': 0.0, 'pulsar_snr': 0.0, 'pulsar_stats': array([0., 0., 0., 0., 0., 0.]), 'RFI_level': 0.0, 'Mean_SEFD': 0.0, 'psrflux_Sens': 0.0, 'SEFDs_val': [0.0], 'SEFDs_freq': [0.0], 'SEFDs_freq_up': [0.0]}\n",
      "\n",
      "Computed drift rate resolution: 0.006687461042448002\n",
      "\n",
      "find_doppler.0  INFO     Spectra 0 1st 3 values: [3.41478851e+10 4.54284452e+10 3.51309988e+10]\n",
      "find_doppler.0  INFO     Spectra 1 1st 3 values: [3.37575752e+10 2.95813079e+10 4.10948157e+10]\n"
     ]
    },
    {
     "ename": "TypeError",
     "evalue": "expected dtype object, got 'numpy.dtype[float32]'",
     "output_type": "error",
     "traceback": [
      "\u001b[0;31m---------------------------------------------------------------------------\u001b[0m",
      "\u001b[0;31mTypeError\u001b[0m                                 Traceback (most recent call last)",
      "\u001b[0;32m<ipython-input-7-547fbdaf1a51>\u001b[0m in \u001b[0;36m<module>\u001b[0;34m\u001b[0m\n\u001b[1;32m      1\u001b[0m \u001b[0;31m#Now we run the search routine on the spectra contained in this single HDF5 file:\u001b[0m\u001b[0;34m\u001b[0m\u001b[0;34m\u001b[0m\u001b[0;34m\u001b[0m\u001b[0m\n\u001b[1;32m      2\u001b[0m \u001b[0mt1\u001b[0m \u001b[0;34m=\u001b[0m \u001b[0mtime\u001b[0m\u001b[0;34m.\u001b[0m\u001b[0mtime\u001b[0m\u001b[0;34m(\u001b[0m\u001b[0;34m)\u001b[0m\u001b[0;34m\u001b[0m\u001b[0;34m\u001b[0m\u001b[0m\n\u001b[0;32m----> 3\u001b[0;31m \u001b[0mdoppler\u001b[0m\u001b[0;34m.\u001b[0m\u001b[0msearch\u001b[0m\u001b[0;34m(\u001b[0m\u001b[0;34m)\u001b[0m\u001b[0;34m\u001b[0m\u001b[0;34m\u001b[0m\u001b[0m\n\u001b[0m\u001b[1;32m      4\u001b[0m \u001b[0mprint\u001b[0m\u001b[0;34m(\u001b[0m\u001b[0;34m\"\\ntutorial_1: Search complete, et = {:.1f} seconds.\"\u001b[0m\u001b[0;34m.\u001b[0m\u001b[0mformat\u001b[0m\u001b[0;34m(\u001b[0m\u001b[0mtime\u001b[0m\u001b[0;34m.\u001b[0m\u001b[0mtime\u001b[0m\u001b[0;34m(\u001b[0m\u001b[0;34m)\u001b[0m \u001b[0;34m-\u001b[0m \u001b[0mt1\u001b[0m\u001b[0;34m)\u001b[0m\u001b[0;34m)\u001b[0m\u001b[0;34m\u001b[0m\u001b[0;34m\u001b[0m\u001b[0m\n",
      "\u001b[0;32m~/.local/lib/python3.7/site-packages/turbo_seti/find_doppler/find_doppler.py\u001b[0m in \u001b[0;36msearch\u001b[0;34m(self, n_partitions, progress_bar)\u001b[0m\n\u001b[1;32m    246\u001b[0m             \u001b[0msched\u001b[0m \u001b[0;34m=\u001b[0m \u001b[0mScheduler\u001b[0m\u001b[0;34m(\u001b[0m\u001b[0mload_the_data\u001b[0m\u001b[0;34m,\u001b[0m \u001b[0;34m[\u001b[0m \u001b[0;34m(\u001b[0m\u001b[0mcchan_obj\u001b[0m\u001b[0;34m,\u001b[0m \u001b[0mself\u001b[0m\u001b[0;34m.\u001b[0m\u001b[0mkernels\u001b[0m\u001b[0;34m.\u001b[0m\u001b[0mprecision\u001b[0m\u001b[0;34m)\u001b[0m \u001b[0;32mfor\u001b[0m \u001b[0mcchan_obj\u001b[0m \u001b[0;32min\u001b[0m \u001b[0mself\u001b[0m\u001b[0;34m.\u001b[0m\u001b[0mdata_handle\u001b[0m\u001b[0;34m.\u001b[0m\u001b[0mcchan_list\u001b[0m \u001b[0;34m]\u001b[0m\u001b[0;34m)\u001b[0m\u001b[0;34m\u001b[0m\u001b[0;34m\u001b[0m\u001b[0m\n\u001b[1;32m    247\u001b[0m             \u001b[0;32mfor\u001b[0m \u001b[0mcchan_obj\u001b[0m \u001b[0;32min\u001b[0m \u001b[0mself\u001b[0m\u001b[0;34m.\u001b[0m\u001b[0mdata_handle\u001b[0m\u001b[0;34m.\u001b[0m\u001b[0mcchan_list\u001b[0m\u001b[0;34m:\u001b[0m\u001b[0;34m\u001b[0m\u001b[0;34m\u001b[0m\u001b[0m\n\u001b[0;32m--> 248\u001b[0;31m                 \u001b[0msearch_coarse_channel\u001b[0m\u001b[0;34m(\u001b[0m\u001b[0mcchan_obj\u001b[0m\u001b[0;34m,\u001b[0m \u001b[0mself\u001b[0m\u001b[0;34m,\u001b[0m \u001b[0mdataloader\u001b[0m\u001b[0;34m=\u001b[0m\u001b[0msched\u001b[0m\u001b[0;34m,\u001b[0m \u001b[0mfilewriter\u001b[0m\u001b[0;34m=\u001b[0m\u001b[0mfilewriter\u001b[0m\u001b[0;34m,\u001b[0m \u001b[0mlogwriter\u001b[0m\u001b[0;34m=\u001b[0m\u001b[0mlogwriter\u001b[0m\u001b[0;34m)\u001b[0m\u001b[0;34m\u001b[0m\u001b[0;34m\u001b[0m\u001b[0m\n\u001b[0m\u001b[1;32m    249\u001b[0m         \u001b[0;31m# Run Parallel version via dask\u001b[0m\u001b[0;34m\u001b[0m\u001b[0;34m\u001b[0m\u001b[0;34m\u001b[0m\u001b[0m\n\u001b[1;32m    250\u001b[0m         \u001b[0;32melse\u001b[0m\u001b[0;34m:\u001b[0m\u001b[0;34m\u001b[0m\u001b[0;34m\u001b[0m\u001b[0m\n",
      "\u001b[0;32m~/.local/lib/python3.7/site-packages/turbo_seti/find_doppler/find_doppler.py\u001b[0m in \u001b[0;36msearch_coarse_channel\u001b[0;34m(cchan_dict, fd, dataloader, logwriter, filewriter)\u001b[0m\n\u001b[1;32m    463\u001b[0m             \u001b[0;31m# Flip matrix across X dimension to search negative doppler drift rates\u001b[0m\u001b[0;34m\u001b[0m\u001b[0;34m\u001b[0m\u001b[0;34m\u001b[0m\u001b[0m\n\u001b[1;32m    464\u001b[0m             \u001b[0mfd\u001b[0m\u001b[0;34m.\u001b[0m\u001b[0mkernels\u001b[0m\u001b[0;34m.\u001b[0m\u001b[0mxp\u001b[0m\u001b[0;34m.\u001b[0m\u001b[0mcopyto\u001b[0m\u001b[0;34m(\u001b[0m\u001b[0mtree_findoppler_flip\u001b[0m\u001b[0;34m,\u001b[0m \u001b[0mtree_findoppler_flip\u001b[0m\u001b[0;34m.\u001b[0m\u001b[0mreshape\u001b[0m\u001b[0;34m(\u001b[0m\u001b[0;34m(\u001b[0m\u001b[0mtsteps\u001b[0m\u001b[0;34m,\u001b[0m \u001b[0mtdwidth\u001b[0m\u001b[0;34m)\u001b[0m\u001b[0;34m)\u001b[0m\u001b[0;34m[\u001b[0m\u001b[0;34m:\u001b[0m\u001b[0;34m,\u001b[0m \u001b[0;34m:\u001b[0m\u001b[0;34m:\u001b[0m\u001b[0;34m-\u001b[0m\u001b[0;36m1\u001b[0m\u001b[0;34m]\u001b[0m\u001b[0;34m.\u001b[0m\u001b[0mravel\u001b[0m\u001b[0;34m(\u001b[0m\u001b[0;34m)\u001b[0m\u001b[0;34m)\u001b[0m\u001b[0;34m\u001b[0m\u001b[0;34m\u001b[0m\u001b[0m\n\u001b[0;32m--> 465\u001b[0;31m             \u001b[0mtree_findoppler_flip\u001b[0m \u001b[0;34m=\u001b[0m \u001b[0mfd\u001b[0m\u001b[0;34m.\u001b[0m\u001b[0mkernels\u001b[0m\u001b[0;34m.\u001b[0m\u001b[0mtt\u001b[0m\u001b[0;34m.\u001b[0m\u001b[0mflt\u001b[0m\u001b[0;34m(\u001b[0m\u001b[0mtree_findoppler_flip\u001b[0m\u001b[0;34m,\u001b[0m \u001b[0mtsteps\u001b[0m\u001b[0;34m)\u001b[0m\u001b[0;34m\u001b[0m\u001b[0;34m\u001b[0m\u001b[0m\n\u001b[0m\u001b[1;32m    466\u001b[0m             \u001b[0mlogger\u001b[0m\u001b[0;34m.\u001b[0m\u001b[0mdebug\u001b[0m\u001b[0;34m(\u001b[0m\u001b[0;34m\"done...\"\u001b[0m\u001b[0;34m)\u001b[0m\u001b[0;34m\u001b[0m\u001b[0;34m\u001b[0m\u001b[0m\n\u001b[1;32m    467\u001b[0m \u001b[0;34m\u001b[0m\u001b[0m\n",
      "\u001b[0;31mTypeError\u001b[0m: expected dtype object, got 'numpy.dtype[float32]'"
     ]
    }
   ],
   "source": [
    "#Now we run the search routine on the spectra contained in this single HDF5 file:\n",
    "t1 = time.time()\n",
    "doppler.search()\n",
    "print(\"\\ntutorial_1: Search complete, et = {:.1f} seconds.\".format(time.time() - t1))"
   ]
  },
  {
   "cell_type": "code",
   "execution_count": 24,
   "metadata": {},
   "outputs": [
    {
     "name": "stdout",
     "output_type": "stream",
     "text": [
      "/datax/scratch/benjb/ata_remote_observations/fil_60528_62453_21002929_mars_0001-beam0000.fbh5\n",
      "/datax/scratch/benjb/ata_remote_observations/fil_60528_62453_21002929_mars_0001-beam0001.fbh5\n",
      "tutorial_1: Please wait for the \"End\" message,\n",
      "\n",
      "\n",
      "tutorial_1: All HDF5 files have been successfully processed.\n",
      "tutorial_1: End.\n"
     ]
    }
   ],
   "source": [
    "# glob will create a list of specific files in a directory. In this case, any file ending in .h5.\n",
    "h5list = sorted(glob.glob(DATADIR + '*.fbh5'))\n",
    "for file in h5list:\n",
    "    print(file)\n",
    "\n",
    "# Iterate over the 6 HDF5 files\n",
    "print(\"tutorial_1: Please wait for the \\\"End\\\" message,\\n\")\n",
    "for file in h5list:\n",
    "    # Execute turboSETI in the terminal\n",
    "    console = 'turboSETI -M 12 -s 2 -o ' + DATADIR + ' -n 192 ' + file\n",
    "    os.system(console)\n",
    "\n",
    "print(\"\\ntutorial_1: All HDF5 files have been successfully processed.\")\n",
    "print(\"tutorial_1: End.\")"
   ]
  },
  {
   "cell_type": "code",
   "execution_count": 11,
   "metadata": {},
   "outputs": [
    {
     "name": "stdout",
     "output_type": "stream",
     "text": [
      "\n",
      "--- File Info ---\n",
      "DIMENSION_LABELS : [b'time' b'feed_id' b'frequency']\n",
      "        az_start :               234.47120666503906\n",
      "     barycentric :                                0\n",
      "       data_type :                                0\n",
      "            fch1 :            8351.750000953674 MHz\n",
      "            foff :          1.9073486328125e-06 MHz\n",
      "           ibeam :                                0\n",
      "      machine_id :                                0\n",
      "          nbeams :                                2\n",
      "           nbits :                               32\n",
      "          nchans :                         50331648\n",
      "            nifs :                                1\n",
      "   pulsarcentric :                                0\n",
      "     source_name :                             mars\n",
      "         src_dej :                    21:36:14.8303\n",
      "         src_raj :                     4:38:32.2396\n",
      "    telescope_id :                                9\n",
      "           tsamp :                        16.777216\n",
      "   tstart (ISOT) :          2024-08-06T17:20:53.000\n",
      "    tstart (MJD) :                60528.72283564815\n",
      "        za_start :               28.130512237548828\n",
      "\n",
      "Num ints in file :                               18\n",
      "      File shape :                (18, 1, 50331648)\n",
      "--- Selection Info ---\n",
      "Data selection shape :                (18, 1, 50331648)\n",
      "Minimum freq (MHz) :                8351.750000953674\n",
      "Maximum freq (MHz) :                8447.749999046326\n"
     ]
    }
   ],
   "source": [
    "fb = bl.Waterfall(h5list[0])\n",
    "fb.info()"
   ]
  },
  {
   "cell_type": "code",
   "execution_count": 20,
   "metadata": {},
   "outputs": [
    {
     "data": {
      "image/png": "[encoded data removed]",
      "text/plain": [
       "<Figure size 432x288 with 2 Axes>"
      ]
     },
     "metadata": {
      "needs_background": "light"
     },
     "output_type": "display_data"
    }
   ],
   "source": [
    "freq = 8401.41\n",
    "fb.plot_waterfall(f_start=freq-0.0001, f_stop=freq+0.0001)"
   ]
  },
  {
   "cell_type": "code",
   "execution_count": null,
   "metadata": {},
   "outputs": [],
   "source": []
  }
 ],
 "metadata": {
  "kernelspec": {
   "display_name": "base",
   "language": "python",
   "name": "python3"
  },
  "language_info": {
   "codemirror_mode": {
    "name": "ipython",
    "version": 3
   },
   "file_extension": ".py",
   "mimetype": "text/x-python",
   "name": "python",
   "nbconvert_exporter": "python",
   "pygments_lexer": "ipython3",
   "version": "3.7.6"
  }
 },
 "nbformat": 4,
 "nbformat_minor": 2
}
