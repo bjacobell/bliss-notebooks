{
 "cells": [
  {
   "cell_type": "code",
   "execution_count": null,
   "metadata": {},
   "outputs": [],
   "source": [
    "# This one is maybe less useful for demo but also needs some work\n",
    "\n",
    "# it reads serialized hit files and can then work on just the hit metadata\n"
   ]
  },
  {
   "cell_type": "code",
   "execution_count": null,
   "metadata": {},
   "outputs": [],
   "source": [
    "\n",
    "import pybliss\n"
   ]
  },
  {
   "cell_type": "markdown",
   "metadata": {},
   "source": []
  },
  {
   "cell_type": "code",
   "execution_count": null,
   "metadata": {},
   "outputs": [],
   "source": [
    "cadence = pybliss.io.read_cadence_hits_from_files([[\"../build/testing_hits_obs0-unknown_0.cp\", \"../build/testing_hits_obs0-unknown_1.cp\", \"../build/testing_hits_obs0-unknown_2.cp\"],\n",
    "                                        [\"../build/testing_hits_obs1-unknown_0.cp\"],\n",
    "                                        [\"../build/testing_hits_obs2-unknown_0.cp\"],\n",
    "                                        [\"../build/testing_hits_obs3-unknown_0.cp\"]])"
   ]
  },
  {
   "cell_type": "code",
   "execution_count": null,
   "metadata": {},
   "outputs": [],
   "source": [
    "for target in cadence.observations:\n",
    "    for scan in target.scans:\n",
    "        print(f\"{scan.tstart} :: {scan.tsamp}\")\n",
    "\n",
    "        print(len(scan.hits))"
   ]
  },
  {
   "cell_type": "code",
   "execution_count": null,
   "metadata": {},
   "outputs": [],
   "source": [
    "print(1276/172)\n",
    "print(1066/86)\n",
    "print(1259/148)"
   ]
  },
  {
   "cell_type": "code",
   "execution_count": null,
   "metadata": {},
   "outputs": [],
   "source": [
    "band_edge_ch1 = cadence.observations[0].scans[0].fch1\n",
    "band_edge_range = cadence.observations[0].scans[0].fch1 + 1e6*cadence.observations[0].scans[0].foff\n",
    "\n",
    "\n",
    "print(f\"Freq range is {band_edge_ch1} - {band_edge_range}\")\n",
    "\n",
    "print((band_edge_ch1 + band_edge_range) / 2)\n",
    "# print(cadence.observations[0].scans[0].foff * 1e6)\n"
   ]
  },
  {
   "cell_type": "code",
   "execution_count": null,
   "metadata": {},
   "outputs": [],
   "source": [
    "on0 = cadence.observations[0].scans[0].hits\n",
    "on1 = cadence.observations[0].scans[1].hits\n",
    "on2 = cadence.observations[0].scans[2].hits\n",
    "\n",
    "\n",
    "\n",
    "\n"
   ]
  },
  {
   "cell_type": "code",
   "execution_count": null,
   "metadata": {},
   "outputs": [],
   "source": [
    "on0 = sorted(on0, key=lambda x: x.drift_rate_Hz_per_sec)\n",
    "on1 = sorted(on1, key=lambda x: x.drift_rate_Hz_per_sec)\n",
    "on2 = sorted(on2, key=lambda x: x.drift_rate_Hz_per_sec)\n"
   ]
  },
  {
   "cell_type": "code",
   "execution_count": null,
   "metadata": {},
   "outputs": [],
   "source": [
    "for h in on0:\n",
    "    print(f\"{h.start_freq_MHz} ({h.start_freq_index}), {h.drift_rate_Hz_per_sec}, {h.snr}\")"
   ]
  },
  {
   "cell_type": "code",
   "execution_count": null,
   "metadata": {},
   "outputs": [],
   "source": [
    "for h in on1:\n",
    "    print(f\"{h.start_freq_MHz}, {h.drift_rate_Hz_per_sec}, {h.snr}\")\n"
   ]
  },
  {
   "cell_type": "code",
   "execution_count": null,
   "metadata": {},
   "outputs": [],
   "source": [
    "for h in on2:\n",
    "    print(f\"{h.start_freq_MHz}, {h.drift_rate_Hz_per_sec}, {h.snr}\")"
   ]
  },
  {
   "cell_type": "code",
   "execution_count": null,
   "metadata": {},
   "outputs": [],
   "source": [
    "events = pybliss.drift_search.event_search(cadence)"
   ]
  },
  {
   "cell_type": "code",
   "execution_count": null,
   "metadata": {},
   "outputs": [],
   "source": [
    "print(len(events))"
   ]
  },
  {
   "cell_type": "code",
   "execution_count": null,
   "metadata": {},
   "outputs": [],
   "source": [
    "for e in events:\n",
    "    print(\"-----\")\n",
    "    for h in e.hits:\n",
    "        print(h)\n",
    "        print(h.bandwidth)"
   ]
  },
  {
   "cell_type": "code",
   "execution_count": null,
   "metadata": {},
   "outputs": [],
   "source": [
    "print(events[0].average_drift_rate_Hz_per_sec)\n",
    "print(events[0].average_snr)\n"
   ]
  },
  {
   "cell_type": "code",
   "execution_count": null,
   "metadata": {},
   "outputs": [],
   "source": [
    "\n",
    "sorted_events = sorted(events, key=lambda x: x.average_snr, reverse=True)\n"
   ]
  },
  {
   "cell_type": "code",
   "execution_count": null,
   "metadata": {},
   "outputs": [],
   "source": [
    "import numpy as np"
   ]
  },
  {
   "cell_type": "code",
   "execution_count": null,
   "metadata": {},
   "outputs": [],
   "source": [
    "for e in sorted_events:\n",
    "    print(f\"SNR is {10*np.log10(e.average_snr):.3f} dB with center {e.starting_frequency_Hz/1e6} @ drift rate {e.average_drift_rate_Hz_per_sec} consists of {len(e.hits)} hits\")\n",
    "    # print(e.hits)"
   ]
  },
  {
   "cell_type": "code",
   "execution_count": null,
   "metadata": {},
   "outputs": [],
   "source": [
    "print(len(sorted_events))"
   ]
  },
  {
   "cell_type": "code",
   "execution_count": null,
   "metadata": {},
   "outputs": [],
   "source": [
    "print(sorted_events[10].starting_frequency_Hz/1e6)\n",
    "sorted_events[10].hits"
   ]
  },
  {
   "cell_type": "code",
   "execution_count": null,
   "metadata": {},
   "outputs": [],
   "source": []
  },
  {
   "cell_type": "code",
   "execution_count": null,
   "metadata": {},
   "outputs": [],
   "source": []
  }
 ],
 "metadata": {
  "kernelspec": {
   "display_name": ".venv",
   "language": "python",
   "name": "python3"
  },
  "language_info": {
   "codemirror_mode": {
    "name": "ipython",
    "version": 3
   },
   "file_extension": ".py",
   "mimetype": "text/x-python",
   "name": "python",
   "nbconvert_exporter": "python",
   "pygments_lexer": "ipython3",
   "version": "3.11.6"
  }
 },
 "nbformat": 4,
 "nbformat_minor": 2
}
